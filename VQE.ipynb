{
  "nbformat": 4,
  "nbformat_minor": 0,
  "metadata": {
    "colab": {
      "provenance": [],
      "include_colab_link": true
    },
    "kernelspec": {
      "name": "python3",
      "display_name": "Python 3"
    },
    "language_info": {
      "name": "python"
    }
  },
  "cells": [
    {
      "cell_type": "markdown",
      "metadata": {
        "id": "view-in-github",
        "colab_type": "text"
      },
      "source": [
        "<a href=\"https://colab.research.google.com/github/ogawagen/VQE_trial/blob/main/VQE.ipynb\" target=\"_parent\"><img src=\"https://colab.research.google.com/assets/colab-badge.svg\" alt=\"Open In Colab\"/></a>"
      ]
    },
    {
      "cell_type": "markdown",
      "source": [
        "# 必要なモジュールのインポート\n",
        "ここが一番重いかも\n"
      ],
      "metadata": {
        "id": "UimghO2LEKRo"
      }
    },
    {
      "cell_type": "code",
      "execution_count": 50,
      "metadata": {
        "id": "CcBLdRCJEKoK",
        "colab": {
          "base_uri": "https://localhost:8080/"
        },
        "outputId": "6b787b25-ae37-420a-a9fa-52102c70aa2b"
      },
      "outputs": [
        {
          "output_type": "stream",
          "name": "stdout",
          "text": [
            "Requirement already satisfied: python-multipart in /usr/local/lib/python3.10/dist-packages (0.0.9)\n",
            "Requirement already satisfied: quri-parts[openfermion,pyscf,qulacs] in /usr/local/lib/python3.10/dist-packages (0.17.0)\n",
            "Requirement already satisfied: quri-parts-algo in /usr/local/lib/python3.10/dist-packages (from quri-parts[openfermion,pyscf,qulacs]) (0.17.0)\n",
            "Requirement already satisfied: quri-parts-chem in /usr/local/lib/python3.10/dist-packages (from quri-parts[openfermion,pyscf,qulacs]) (0.17.0)\n",
            "Requirement already satisfied: quri-parts-circuit in /usr/local/lib/python3.10/dist-packages (from quri-parts[openfermion,pyscf,qulacs]) (0.17.0)\n",
            "Requirement already satisfied: quri-parts-core in /usr/local/lib/python3.10/dist-packages (from quri-parts[openfermion,pyscf,qulacs]) (0.17.0)\n",
            "Requirement already satisfied: quri-parts-qulacs in /usr/local/lib/python3.10/dist-packages (from quri-parts[openfermion,pyscf,qulacs]) (0.17.0)\n",
            "Requirement already satisfied: quri-parts-openfermion in /usr/local/lib/python3.10/dist-packages (from quri-parts[openfermion,pyscf,qulacs]) (0.17.0)\n",
            "Requirement already satisfied: quri-parts-pyscf in /usr/local/lib/python3.10/dist-packages (from quri-parts[openfermion,pyscf,qulacs]) (0.17.0)\n",
            "Requirement already satisfied: scipy<2.0.0,>=1.9.1 in /usr/local/lib/python3.10/dist-packages (from quri-parts-algo->quri-parts[openfermion,pyscf,qulacs]) (1.11.4)\n",
            "Requirement already satisfied: typing-extensions<5.0.0,>=4.1.1 in /usr/local/lib/python3.10/dist-packages (from quri-parts-algo->quri-parts[openfermion,pyscf,qulacs]) (4.10.0)\n",
            "Requirement already satisfied: numpy>=1.22.0 in /usr/local/lib/python3.10/dist-packages (from quri-parts-circuit->quri-parts[openfermion,pyscf,qulacs]) (1.25.2)\n",
            "Requirement already satisfied: openfermion<2.0.0,>=1.5.1 in /usr/local/lib/python3.10/dist-packages (from quri-parts-openfermion->quri-parts[openfermion,pyscf,qulacs]) (1.6.1)\n",
            "Requirement already satisfied: pyscf<3.0.0,>=2.3.0 in /usr/local/lib/python3.10/dist-packages (from quri-parts-pyscf->quri-parts[openfermion,pyscf,qulacs]) (2.5.0)\n",
            "Requirement already satisfied: Qulacs<0.6.0,>=0.3.0 in /usr/local/lib/python3.10/dist-packages (from quri-parts-qulacs->quri-parts[openfermion,pyscf,qulacs]) (0.5.6)\n",
            "Requirement already satisfied: cirq-core~=1.0 in /usr/local/lib/python3.10/dist-packages (from openfermion<2.0.0,>=1.5.1->quri-parts-openfermion->quri-parts[openfermion,pyscf,qulacs]) (1.3.0)\n",
            "Requirement already satisfied: deprecation in /usr/local/lib/python3.10/dist-packages (from openfermion<2.0.0,>=1.5.1->quri-parts-openfermion->quri-parts[openfermion,pyscf,qulacs]) (2.1.0)\n",
            "Requirement already satisfied: h5py>=2.8 in /usr/local/lib/python3.10/dist-packages (from openfermion<2.0.0,>=1.5.1->quri-parts-openfermion->quri-parts[openfermion,pyscf,qulacs]) (3.9.0)\n",
            "Requirement already satisfied: networkx in /usr/local/lib/python3.10/dist-packages (from openfermion<2.0.0,>=1.5.1->quri-parts-openfermion->quri-parts[openfermion,pyscf,qulacs]) (3.2.1)\n",
            "Requirement already satisfied: pubchempy in /usr/local/lib/python3.10/dist-packages (from openfermion<2.0.0,>=1.5.1->quri-parts-openfermion->quri-parts[openfermion,pyscf,qulacs]) (1.0.4)\n",
            "Requirement already satisfied: requests>=2.18 in /usr/local/lib/python3.10/dist-packages (from openfermion<2.0.0,>=1.5.1->quri-parts-openfermion->quri-parts[openfermion,pyscf,qulacs]) (2.31.0)\n",
            "Requirement already satisfied: sympy in /usr/local/lib/python3.10/dist-packages (from openfermion<2.0.0,>=1.5.1->quri-parts-openfermion->quri-parts[openfermion,pyscf,qulacs]) (1.12)\n",
            "Requirement already satisfied: setuptools in /usr/local/lib/python3.10/dist-packages (from pyscf<3.0.0,>=2.3.0->quri-parts-pyscf->quri-parts[openfermion,pyscf,qulacs]) (67.7.2)\n",
            "Requirement already satisfied: duet~=0.2.8 in /usr/local/lib/python3.10/dist-packages (from cirq-core~=1.0->openfermion<2.0.0,>=1.5.1->quri-parts-openfermion->quri-parts[openfermion,pyscf,qulacs]) (0.2.9)\n",
            "Requirement already satisfied: matplotlib~=3.0 in /usr/local/lib/python3.10/dist-packages (from cirq-core~=1.0->openfermion<2.0.0,>=1.5.1->quri-parts-openfermion->quri-parts[openfermion,pyscf,qulacs]) (3.7.1)\n",
            "Requirement already satisfied: pandas in /usr/local/lib/python3.10/dist-packages (from cirq-core~=1.0->openfermion<2.0.0,>=1.5.1->quri-parts-openfermion->quri-parts[openfermion,pyscf,qulacs]) (1.5.3)\n",
            "Requirement already satisfied: sortedcontainers~=2.0 in /usr/local/lib/python3.10/dist-packages (from cirq-core~=1.0->openfermion<2.0.0,>=1.5.1->quri-parts-openfermion->quri-parts[openfermion,pyscf,qulacs]) (2.4.0)\n",
            "Requirement already satisfied: tqdm in /usr/local/lib/python3.10/dist-packages (from cirq-core~=1.0->openfermion<2.0.0,>=1.5.1->quri-parts-openfermion->quri-parts[openfermion,pyscf,qulacs]) (4.66.2)\n",
            "Requirement already satisfied: charset-normalizer<4,>=2 in /usr/local/lib/python3.10/dist-packages (from requests>=2.18->openfermion<2.0.0,>=1.5.1->quri-parts-openfermion->quri-parts[openfermion,pyscf,qulacs]) (3.3.2)\n",
            "Requirement already satisfied: idna<4,>=2.5 in /usr/local/lib/python3.10/dist-packages (from requests>=2.18->openfermion<2.0.0,>=1.5.1->quri-parts-openfermion->quri-parts[openfermion,pyscf,qulacs]) (3.6)\n",
            "Requirement already satisfied: urllib3<3,>=1.21.1 in /usr/local/lib/python3.10/dist-packages (from requests>=2.18->openfermion<2.0.0,>=1.5.1->quri-parts-openfermion->quri-parts[openfermion,pyscf,qulacs]) (2.0.7)\n",
            "Requirement already satisfied: certifi>=2017.4.17 in /usr/local/lib/python3.10/dist-packages (from requests>=2.18->openfermion<2.0.0,>=1.5.1->quri-parts-openfermion->quri-parts[openfermion,pyscf,qulacs]) (2024.2.2)\n",
            "Requirement already satisfied: packaging in /usr/local/lib/python3.10/dist-packages (from deprecation->openfermion<2.0.0,>=1.5.1->quri-parts-openfermion->quri-parts[openfermion,pyscf,qulacs]) (24.0)\n",
            "Requirement already satisfied: mpmath>=0.19 in /usr/local/lib/python3.10/dist-packages (from sympy->openfermion<2.0.0,>=1.5.1->quri-parts-openfermion->quri-parts[openfermion,pyscf,qulacs]) (1.3.0)\n",
            "Requirement already satisfied: contourpy>=1.0.1 in /usr/local/lib/python3.10/dist-packages (from matplotlib~=3.0->cirq-core~=1.0->openfermion<2.0.0,>=1.5.1->quri-parts-openfermion->quri-parts[openfermion,pyscf,qulacs]) (1.2.0)\n",
            "Requirement already satisfied: cycler>=0.10 in /usr/local/lib/python3.10/dist-packages (from matplotlib~=3.0->cirq-core~=1.0->openfermion<2.0.0,>=1.5.1->quri-parts-openfermion->quri-parts[openfermion,pyscf,qulacs]) (0.12.1)\n",
            "Requirement already satisfied: fonttools>=4.22.0 in /usr/local/lib/python3.10/dist-packages (from matplotlib~=3.0->cirq-core~=1.0->openfermion<2.0.0,>=1.5.1->quri-parts-openfermion->quri-parts[openfermion,pyscf,qulacs]) (4.50.0)\n",
            "Requirement already satisfied: kiwisolver>=1.0.1 in /usr/local/lib/python3.10/dist-packages (from matplotlib~=3.0->cirq-core~=1.0->openfermion<2.0.0,>=1.5.1->quri-parts-openfermion->quri-parts[openfermion,pyscf,qulacs]) (1.4.5)\n",
            "Requirement already satisfied: pillow>=6.2.0 in /usr/local/lib/python3.10/dist-packages (from matplotlib~=3.0->cirq-core~=1.0->openfermion<2.0.0,>=1.5.1->quri-parts-openfermion->quri-parts[openfermion,pyscf,qulacs]) (9.4.0)\n",
            "Requirement already satisfied: pyparsing>=2.3.1 in /usr/local/lib/python3.10/dist-packages (from matplotlib~=3.0->cirq-core~=1.0->openfermion<2.0.0,>=1.5.1->quri-parts-openfermion->quri-parts[openfermion,pyscf,qulacs]) (3.1.2)\n",
            "Requirement already satisfied: python-dateutil>=2.7 in /usr/local/lib/python3.10/dist-packages (from matplotlib~=3.0->cirq-core~=1.0->openfermion<2.0.0,>=1.5.1->quri-parts-openfermion->quri-parts[openfermion,pyscf,qulacs]) (2.8.2)\n",
            "Requirement already satisfied: pytz>=2020.1 in /usr/local/lib/python3.10/dist-packages (from pandas->cirq-core~=1.0->openfermion<2.0.0,>=1.5.1->quri-parts-openfermion->quri-parts[openfermion,pyscf,qulacs]) (2023.4)\n",
            "Requirement already satisfied: six>=1.5 in /usr/local/lib/python3.10/dist-packages (from python-dateutil>=2.7->matplotlib~=3.0->cirq-core~=1.0->openfermion<2.0.0,>=1.5.1->quri-parts-openfermion->quri-parts[openfermion,pyscf,qulacs]) (1.16.0)\n"
          ]
        }
      ],
      "source": [
        "!python -m pip install python-multipart\n",
        "!python -m pip install quri-parts[chem,pyscf,qulacs,openfermion]"
      ]
    },
    {
      "cell_type": "markdown",
      "source": [
        "#インポートと拡張機能の読み込み\n"
      ],
      "metadata": {
        "id": "61hMllRLRuV-"
      }
    },
    {
      "cell_type": "code",
      "source": [
        "#標準ライブラリのインポート\n",
        "import pandas as pd\n",
        "import numpy as np\n",
        "from numpy import random\n",
        "import matplotlib.pyplot as plt\n",
        "\n",
        "#量子化学計算ライブラリのインポート\n",
        "from pyscf import gto, scf\n",
        "\n",
        "#QURI Partsライブラリのインポート\n",
        "from quri_parts.chem.mol import ActiveSpace\n",
        "from quri_parts.pyscf.mol import get_spin_mo_integrals_from_mole\n",
        "from quri_parts.openfermion.mol import get_fermionic_hamiltonian, operator_from_of_fermionic_op\n",
        "from quri_parts.openfermion.transforms import jordan_wigner\n",
        "from quri_parts.algo.ansatz import HardwareEfficient\n",
        "from quri_parts.algo.optimizer import LBFGS,OptimizerStatus\n",
        "from quri_parts.core.state import ParametricCircuitQuantumState\n",
        "from quri_parts.core.estimator.gradient import create_numerical_gradient_estimator\n",
        "from quri_parts.qulacs.estimator import create_qulacs_vector_parametric_estimator\n",
        "from quri_parts.core.estimator.gradient import parameter_shift_gradient_estimates\n"
      ],
      "metadata": {
        "id": "ogJUPKcjHm0D"
      },
      "execution_count": 73,
      "outputs": []
    },
    {
      "cell_type": "markdown",
      "source": [
        "#分子の初期化とHF計算\n",
        "古典コンピュータでHF配置の量子化学計算(電子積分)→分子軌道(MO)を得る→その時の係数を得る"
      ],
      "metadata": {
        "id": "3bthKCVyVyYx"
      }
    },
    {
      "cell_type": "code",
      "source": [
        "def initialize_molecule(molecule, basis='sto-3g'):\n",
        "    mol = gto.M(atom=molecule, basis=basis, verbose=0)\n",
        "    mf = scf.RHF(mol).run()\n",
        "    mo_coeff = mf.mo_coeff\n",
        "    return mol, mf, mo_coeff\n"
      ],
      "metadata": {
        "id": "BGGIzV6QV3fF"
      },
      "execution_count": 74,
      "outputs": []
    },
    {
      "cell_type": "markdown",
      "source": [
        "#Active Spaceの定義\n",
        "Active Spaceの電子と軌道を決める→Active Space内のMOの電子積分を計算"
      ],
      "metadata": {
        "id": "Z6vCzqlQV86k"
      }
    },
    {
      "cell_type": "code",
      "source": [
        "def define_active_space(mol, mo_coeff, n_active_ele, n_active_orb):\n",
        "    active_space = ActiveSpace(n_active_ele, n_active_orb)\n",
        "    active_space, active_space_mo_eint_set = get_spin_mo_integrals_from_mole(mol, mo_coeff, active_space)\n",
        "    return active_space, active_space_mo_eint_set\n"
      ],
      "metadata": {
        "id": "w6HDIPtvV8cK"
      },
      "execution_count": 75,
      "outputs": []
    },
    {
      "cell_type": "markdown",
      "source": [
        "ここまででMOの電子積分を求めた。ここから分子のハミルトニアンを生成する。"
      ],
      "metadata": {
        "id": "XKTMEcSUhqzE"
      }
    },
    {
      "cell_type": "markdown",
      "source": [
        "#fermionicハミルトニアンの生成\n",
        "fermionicハミルトニアンは```active_space_mo_eint_set```\n",
        "\n",
        "Active Space内のMOの電子積分値から生成できる\n",
        "\n",
        "\n",
        "#qubitハミルトニアンを生成\n",
        "量子状態の期待値を見積もることができる\n",
        "\n",
        "```operator_from_of_fermionic_op```を用いて、fermionハミルトニアンからqubitハミルトニアンへmappingする。\n",
        "\n",
        "この```active_space_jw_hamiltonian```はfermion-qubitハミルトニアンマッピングを行うことができるアブジェクト"
      ],
      "metadata": {
        "id": "BJ20mIykYslN"
      }
    },
    {
      "cell_type": "code",
      "source": [
        "def create_hamiltonians(active_space_mo_eint_set, n_active_orb):\n",
        "    active_space_fermionic_hamiltonian = get_fermionic_hamiltonian(active_space_mo_eint_set)\n",
        "    active_space_jw_hamiltonian, active_space_mapping = operator_from_of_fermionic_op(\n",
        "        active_space_fermionic_hamiltonian,\n",
        "        active_space,\n",
        "        fermion_qubit_mapping=jordan_wigner\n",
        "    )\n",
        "    return active_space_jw_hamiltonian\n"
      ],
      "metadata": {
        "id": "DjCmrlBnYwUT"
      },
      "execution_count": 76,
      "outputs": []
    },
    {
      "cell_type": "markdown",
      "source": [
        "#VQEのセットアップ"
      ],
      "metadata": {
        "id": "7i2a3QxVY0eZ"
      }
    },
    {
      "cell_type": "code",
      "source": [
        "def setup_vqe(n_active_orb, hw_reps=5, gtol=1e-4):\n",
        "    hw_ansatz = HardwareEfficient(qubit_count=int(n_active_orb)*2, reps=hw_reps)\n",
        "    parametric_state = ParametricCircuitQuantumState(n_qubits=int(n_active_orb)*2, circuit=hw_ansatz)\n",
        "    lbfgs_optimizer = LBFGS(gtol=gtol)\n",
        "    return hw_ansatz, parametric_state, lbfgs_optimizer\n"
      ],
      "metadata": {
        "id": "Q1gd-htZY3NJ"
      },
      "execution_count": 77,
      "outputs": []
    },
    {
      "cell_type": "markdown",
      "source": [
        "#estimator関数"
      ],
      "metadata": {
        "id": "KgQEbUawjBDy"
      }
    },
    {
      "cell_type": "code",
      "source": [
        "def create_estimators(delta=1e-4):\n",
        "    # Concurrent Parametric Estimatorの作成\n",
        "    ql_concurrent_estimator = create_qulacs_vector_concurrent_parametric_estimator()\n",
        "\n",
        "    # Gradient Estimatorの作成\n",
        "    gradient_estimator = create_numerical_gradient_estimator(\n",
        "        ql_concurrent_estimator, delta=delta\n",
        "    )\n",
        "    return ql_concurrent_estimator, gradient_estimator\n"
      ],
      "metadata": {
        "id": "dOPdZL7NjE-1"
      },
      "execution_count": 78,
      "outputs": []
    },
    {
      "cell_type": "markdown",
      "source": [
        "#VQEの実行"
      ],
      "metadata": {
        "id": "oR0F-OM7Y7WP"
      }
    },
    {
      "cell_type": "code",
      "source": [
        "def run_vqe(active_space_jw_hamiltonian, parametric_state, estimator, init_params, optimizer):\n",
        "\n",
        "    noiseless_result, energy_hist = vqe(active_space_jw_hamiltonian, parametric_state, estimator, init_params, optimizer)\n",
        "\n",
        "    return noiseless_result, energy_hist\n"
      ],
      "metadata": {
        "id": "QOBh9uq5Y-wM"
      },
      "execution_count": 79,
      "outputs": []
    },
    {
      "cell_type": "markdown",
      "source": [
        "#VQEの初期化と実行\n",
        "VQE関連の関数を別のセルに配置し、別のセルでVQEを実行"
      ],
      "metadata": {
        "id": "yPdG6OETWEZy"
      }
    },
    {
      "cell_type": "code",
      "source": [
        "def cost_fn(hamiltonian, parametric_state, param_values, estimator):\n",
        "    estimate = estimator(active_space_jw_hamiltonian, parametric_state, [param_values])\n",
        "\n",
        "    return estimate[0].value.real\n",
        "\n",
        "def grad_fn(hamiltonian, parametric_state, param_values, estimator):\n",
        "    grad = parameter_shift_gradient_estimates(active_space_jw_hamiltonian, parametric_state, param_values, estimator)\n",
        "    # parameter shift rule to calculate the gradient\n",
        "\n",
        "    return np.asarray([i.real for i in grad.values])\n",
        "\n",
        "def vqe(hamiltonian, parametric_state, estimator, init_params, optimizer):\n",
        "    opt_state = optimizer.get_init_state(init_params)\n",
        "    energy_hist = []\n",
        "    max_iterations = 200  # 最大イテレーション数\n",
        "    def c_fn(param_values):\n",
        "         return cost_fn(active_space_jw_hamiltonian, parametric_state, param_values, estimator)\n",
        "\n",
        "    def g_fn(param_values):\n",
        "         return grad_fn(active_space_jw_hamiltonian, parametric_state, param_values, estimator)\n",
        "    for iteration in range(max_iterations):\n",
        "        opt_state = optimizer.step(opt_state, c_fn, g_fn)\n",
        "\n",
        "        energy_hist.append(opt_state.cost)\n",
        "\n",
        "        if opt_state.status == OptimizerStatus.FAILED:\n",
        "            print(\"Optimizer failed\")\n",
        "            break\n",
        "        if opt_state.status == OptimizerStatus.CONVERGED:\n",
        "            print(\"Optimizer converged\")\n",
        "            break\n",
        "\n",
        "    if opt_state.status != OptimizerStatus.CONVERGED:\n",
        "        print(\"VQE did not converge within the maximum number of iterations\")\n",
        "\n",
        "    return opt_state, energy_hist\n"
      ],
      "metadata": {
        "id": "xldS8OtSWECR"
      },
      "execution_count": 80,
      "outputs": []
    },
    {
      "cell_type": "markdown",
      "source": [
        "#結果のプロット"
      ],
      "metadata": {
        "id": "N1TgvgYCZCTz"
      }
    },
    {
      "cell_type": "code",
      "source": [
        "def plot_results(energy_hist, exact_energy):\n",
        "    plt.plot(energy_hist, color=\"red\", label=\"VQE\")\n",
        "    plt.plot(range(len(energy_hist)), [exact_energy]*len(energy_hist), linestyle=\"dashed\", color=\"black\", label=\"Exact Solution\")\n",
        "    plt.xlabel(\"Iteration\")\n",
        "    plt.ylabel(\"Energy expectation value\")\n",
        "    plt.legend()\n",
        "    plt.show()\n"
      ],
      "metadata": {
        "id": "LMGjMSQDZE7F"
      },
      "execution_count": 81,
      "outputs": []
    },
    {
      "cell_type": "markdown",
      "source": [
        "#水素分子の実行"
      ],
      "metadata": {
        "id": "pYXkEaoXWWXs"
      }
    },
    {
      "cell_type": "code",
      "source": [
        "# 分子の初期化\n",
        "mol, mf, mo_coeff = initialize_molecule([['H', [0, 0, 0]], ['H', [0, 0, 1]]])\n",
        "#アクティブスペースの電子数と軌道数\n",
        "n_active_ele = 2\n",
        "n_active_orb = 2\n",
        "#set ql_concurrent_estimator\n",
        "ql_concurrent_estimator = create_qulacs_vector_concurrent_parametric_estimator()\n",
        "# VQEのセットアップ\n",
        "hw_ansatz, parametric_state, lbfgs_optimizer = setup_vqe(n_active_orb)\n",
        "# 初期パラメータの設定\n",
        "init_params = [0.1] * hw_ansatz.parameter_count\n",
        "# この値は、実際のパラメータの数に基づいて調整する\n",
        "param_values = np.random.rand(hw_ansatz.parameter_count)\n",
        "# active_spaceとactive_space_mo_eint_setを設定\n",
        "active_space, active_space_mo_eint_set = define_active_space(mol, mo_coeff, n_active_ele, n_active_orb)\n",
        "\n",
        "# active_space_fermionic_hamiltonianの設定\n",
        "active_space_fermionic_hamiltonian = get_fermionic_hamiltonian(active_space_mo_eint_set)\n",
        "\n",
        "# アクティブスペースの定義\n",
        "active_space, active_space_mo_eint_set = define_active_space(mol, mf.mo_coeff, n_active_ele, n_active_orb)\n",
        "# ハミルトニアンの生成\n",
        "active_space_jw_hamiltonian = create_hamiltonians(active_space_mo_eint_set, n_active_orb)\n",
        "\n",
        "# VQEのセットアップ\n",
        "hw_ansatz, parametric_state, lbfgs_optimizer = setup_vqe(n_active_orb)\n",
        "\n",
        "#optimatorの呼び出し\n",
        "ql_concurrent_estimator, gradient_estimator = create_estimators(delta=1e-4)\n",
        "\n",
        "# VQEの実行\n",
        "noiseless_result, energy_hist = run_vqe(active_space_jw_hamiltonian, parametric_state, ql_concurrent_estimator, init_params, lbfgs_optimizer)\n",
        "\n",
        "# 結果のプロット\n",
        "exact_energy, _ = get_ground_state(get_sparse_operator(active_space_fermionic_hamiltonian))\n",
        "plot_results(energy_hist, exact_energy)"
      ],
      "metadata": {
        "id": "twnAIQ9cWeaV",
        "colab": {
          "base_uri": "https://localhost:8080/",
          "height": 467
        },
        "outputId": "4101d335-8643-45eb-c195-8b6622a8489f"
      },
      "execution_count": 82,
      "outputs": [
        {
          "output_type": "stream",
          "name": "stdout",
          "text": [
            "Optimizer converged\n"
          ]
        },
        {
          "output_type": "display_data",
          "data": {
            "text/plain": [
              "<Figure size 640x480 with 1 Axes>"
            ],
            "image/png": "[encoded data removed]"
          },
          "metadata": {}
        }
      ]
    },
    {
      "cell_type": "markdown",
      "source": [
        "#水分子\n"
      ],
      "metadata": {
        "id": "cXIp4DaSpicY"
      }
    },
    {
      "cell_type": "code",
      "source": [
        "# 分子の初期化\n",
        "mol, mf, mo_coeff = initialize_molecule([['H', [0, 0, 0]], ['O', [2, 0, 1]], ['H', [0, 0, 1]]])\n",
        "#アクティブスペースの電子数と軌道数\n",
        "n_active_ele = 2\n",
        "n_active_orb = 2\n",
        "#set ql_concurrent_estimator\n",
        "ql_concurrent_estimator = create_qulacs_vector_concurrent_parametric_estimator()\n",
        "# VQEのセットアップ\n",
        "hw_ansatz, parametric_state, lbfgs_optimizer = setup_vqe(n_active_orb)\n",
        "# 初期パラメータの設定\n",
        "init_params = [0.1] * hw_ansatz.parameter_count\n",
        "# この値は、実際のパラメータの数に基づいて調整する\n",
        "param_values = np.random.rand(hw_ansatz.parameter_count)\n",
        "# active_spaceとactive_space_mo_eint_setを設定\n",
        "active_space, active_space_mo_eint_set = define_active_space(mol, mo_coeff, n_active_ele, n_active_orb)\n",
        "\n",
        "# active_space_fermionic_hamiltonianの設定\n",
        "active_space_fermionic_hamiltonian = get_fermionic_hamiltonian(active_space_mo_eint_set)\n",
        "\n",
        "# アクティブスペースの定義\n",
        "active_space, active_space_mo_eint_set = define_active_space(mol, mf.mo_coeff, n_active_ele, n_active_orb)\n",
        "# ハミルトニアンの生成\n",
        "active_space_jw_hamiltonian = create_hamiltonians(active_space_mo_eint_set, n_active_orb)\n",
        "\n",
        "# VQEのセットアップ\n",
        "hw_ansatz, parametric_state, lbfgs_optimizer = setup_vqe(n_active_orb)\n",
        "\n",
        "#optimatorの呼び出し\n",
        "ql_concurrent_estimator, gradient_estimator = create_estimators(delta=1e-4)\n",
        "\n",
        "# VQEの実行\n",
        "noiseless_result, energy_hist = run_vqe(active_space_jw_hamiltonian, parametric_state, ql_concurrent_estimator, init_params, lbfgs_optimizer)\n",
        "\n",
        "# 結果のプロット\n",
        "exact_energy, _ = get_ground_state(get_sparse_operator(active_space_fermionic_hamiltonian))\n",
        "plot_results(energy_hist, exact_energy)"
      ],
      "metadata": {
        "colab": {
          "base_uri": "https://localhost:8080/",
          "height": 467
        },
        "id": "zpyC3e1j09ZK",
        "outputId": "91cb4c99-3066-4e31-e576-3168bb52c1e2"
      },
      "execution_count": 87,
      "outputs": [
        {
          "output_type": "stream",
          "name": "stdout",
          "text": [
            "Optimizer converged\n"
          ]
        },
        {
          "output_type": "display_data",
          "data": {
            "text/plain": [
              "<Figure size 640x480 with 1 Axes>"
            ],
            "image/png": "[encoded data removed]"
          },
          "metadata": {}
        }
      ]
    },
    {
      "cell_type": "code",
      "source": [],
      "metadata": {
        "id": "gFkDJsdtGj7H"
      },
      "execution_count": null,
      "outputs": []
    }
  ]
}